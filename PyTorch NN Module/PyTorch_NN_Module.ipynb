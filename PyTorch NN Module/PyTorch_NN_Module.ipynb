{
  "nbformat": 4,
  "nbformat_minor": 0,
  "metadata": {
    "colab": {
      "provenance": []
    },
    "kernelspec": {
      "name": "python3",
      "display_name": "Python 3"
    },
    "language_info": {
      "name": "python"
    }
  },
  "cells": [
    {
      "cell_type": "code",
      "execution_count": 25,
      "metadata": {
        "id": "MprTfTAfBywZ"
      },
      "outputs": [],
      "source": [
        "##  create model class\n",
        "import torch\n",
        "import torch.nn as nn\n",
        "\n",
        "class Model(nn.Module):\n",
        "\n",
        "  def __init__(self, num_features):\n",
        "    super().__init__()  ## parent class contructor ,,,it's methods etc...called here\n",
        "    self.network = nn.Sequential(\n",
        "        nn.Linear(num_features, 3),\n",
        "        nn.ReLU(),\n",
        "        nn.Linear(3,1),\n",
        "        nn.Sigmoid()\n",
        "    )\n",
        "\n",
        "  def forward(self, features):\n",
        "    output = self.network(features)\n",
        "    return output"
      ]
    },
    {
      "cell_type": "code",
      "source": [
        "## creating dataset\n",
        "features = torch.rand(10,5)\n",
        "print(features)\n",
        "\n",
        "##   model\n",
        "model = Model(features.shape[1])\n",
        "\n",
        "## calling model for forward pass\n",
        "output = model(features)  ## __call__ magic method (inside pytorch nn module) so it triggers Model().forward() method\n",
        "\n",
        "output"
      ],
      "metadata": {
        "colab": {
          "base_uri": "https://localhost:8080/"
        },
        "id": "8M1eJKd5EKy8",
        "outputId": "74e8504e-8c12-43e4-b0c5-1e105732a403"
      },
      "execution_count": 26,
      "outputs": [
        {
          "output_type": "stream",
          "name": "stdout",
          "text": [
            "tensor([[0.3118, 0.6698, 0.4489, 0.1468, 0.8545],\n",
            "        [0.2809, 0.3927, 0.7874, 0.9467, 0.0379],\n",
            "        [0.9471, 0.8004, 0.9943, 0.2714, 0.6423],\n",
            "        [0.1174, 0.1685, 0.1414, 0.0976, 0.0858],\n",
            "        [0.8623, 0.3418, 0.3025, 0.4759, 0.8916],\n",
            "        [0.2839, 0.6933, 0.5676, 0.6837, 0.0858],\n",
            "        [0.1487, 0.2682, 0.4397, 0.7988, 0.5899],\n",
            "        [0.1214, 0.0643, 0.0370, 0.5802, 0.1880],\n",
            "        [0.6709, 0.5765, 0.3747, 0.9935, 0.3700],\n",
            "        [0.6046, 0.6168, 0.8917, 0.8300, 0.9982]])\n"
          ]
        },
        {
          "output_type": "execute_result",
          "data": {
            "text/plain": [
              "tensor([[0.6156],\n",
              "        [0.6289],\n",
              "        [0.6363],\n",
              "        [0.6096],\n",
              "        [0.6278],\n",
              "        [0.6275],\n",
              "        [0.6188],\n",
              "        [0.6097],\n",
              "        [0.6383],\n",
              "        [0.6357]], grad_fn=<SigmoidBackward0>)"
            ]
          },
          "metadata": {},
          "execution_count": 26
        }
      ]
    },
    {
      "cell_type": "code",
      "source": [
        "## showing model weights\n",
        "for name, param in model.named_parameters():\n",
        "    print(name, param.shape)\n"
      ],
      "metadata": {
        "colab": {
          "base_uri": "https://localhost:8080/"
        },
        "id": "2As3hgE3FBWt",
        "outputId": "f1b49060-1d1a-41d1-b5a5-416c9030417b"
      },
      "execution_count": 37,
      "outputs": [
        {
          "output_type": "stream",
          "name": "stdout",
          "text": [
            "network.0.weight torch.Size([3, 5])\n",
            "network.0.bias torch.Size([3])\n",
            "network.2.weight torch.Size([1, 3])\n",
            "network.2.bias torch.Size([1])\n"
          ]
        }
      ]
    },
    {
      "cell_type": "markdown",
      "source": [
        "### Visualizing neural network"
      ],
      "metadata": {
        "id": "ZVAMlvq_FaJF"
      }
    },
    {
      "cell_type": "code",
      "source": [
        "!pip install torchinfo"
      ],
      "metadata": {
        "colab": {
          "base_uri": "https://localhost:8080/"
        },
        "id": "kOpemEntFVyp",
        "outputId": "6763e2a5-1a03-4023-aa3a-bf56e7cbdafb"
      },
      "execution_count": 19,
      "outputs": [
        {
          "output_type": "stream",
          "name": "stdout",
          "text": [
            "Requirement already satisfied: torchinfo in /usr/local/lib/python3.11/dist-packages (1.8.0)\n"
          ]
        }
      ]
    },
    {
      "cell_type": "code",
      "source": [
        "from torchinfo import summary\n",
        "\n",
        "summary(model, input_size=(10,5))"
      ],
      "metadata": {
        "colab": {
          "base_uri": "https://localhost:8080/"
        },
        "id": "kAN5w-WhFiuk",
        "outputId": "a331376f-2bff-4bed-b6ee-9d6297f5513d"
      },
      "execution_count": 20,
      "outputs": [
        {
          "output_type": "execute_result",
          "data": {
            "text/plain": [
              "==========================================================================================\n",
              "Layer (type:depth-idx)                   Output Shape              Param #\n",
              "==========================================================================================\n",
              "Model                                    [10, 1]                   --\n",
              "├─Linear: 1-1                            [10, 3]                   18\n",
              "├─ReLU: 1-2                              [10, 3]                   --\n",
              "├─Linear: 1-3                            [10, 1]                   4\n",
              "├─Sigmoid: 1-4                           [10, 1]                   --\n",
              "==========================================================================================\n",
              "Total params: 22\n",
              "Trainable params: 22\n",
              "Non-trainable params: 0\n",
              "Total mult-adds (Units.MEGABYTES): 0.00\n",
              "==========================================================================================\n",
              "Input size (MB): 0.00\n",
              "Forward/backward pass size (MB): 0.00\n",
              "Params size (MB): 0.00\n",
              "Estimated Total Size (MB): 0.00\n",
              "=========================================================================================="
            ]
          },
          "metadata": {},
          "execution_count": 20
        }
      ]
    },
    {
      "cell_type": "markdown",
      "source": [
        "### End here...!"
      ],
      "metadata": {
        "id": "t230lSybKkfB"
      }
    }
  ]
}