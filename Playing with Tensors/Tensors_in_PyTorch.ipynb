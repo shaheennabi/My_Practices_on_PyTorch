{
  "nbformat": 4,
  "nbformat_minor": 0,
  "metadata": {
    "colab": {
      "provenance": [],
      "gpuType": "T4"
    },
    "kernelspec": {
      "name": "python3",
      "display_name": "Python 3"
    },
    "language_info": {
      "name": "python"
    },
    "accelerator": "GPU"
  },
  "cells": [
    {
      "cell_type": "markdown",
      "source": [
        "# This is the tutorial based PyTorch notebook..means all the basic stuff is here... operations we can do with tensors etcc"
      ],
      "metadata": {
        "id": "HBVOj4YEWYUG"
      }
    },
    {
      "cell_type": "code",
      "execution_count": 2,
      "metadata": {
        "id": "BjSfwKotGLOi"
      },
      "outputs": [],
      "source": [
        "import torch"
      ]
    },
    {
      "cell_type": "markdown",
      "source": [
        "### Creating a tensor"
      ],
      "metadata": {
        "id": "afMcTNIBGYFq"
      }
    },
    {
      "cell_type": "code",
      "source": [
        "## using empty\n",
        "\n",
        "torch.empty(2,4)"
      ],
      "metadata": {
        "colab": {
          "base_uri": "https://localhost:8080/"
        },
        "id": "r9TpFHe_GS6v",
        "outputId": "c9cb15b0-7a55-4efd-deb0-707eb818f1c6"
      },
      "execution_count": 5,
      "outputs": [
        {
          "output_type": "execute_result",
          "data": {
            "text/plain": [
              "tensor([[9.3833e-11, 0.0000e+00, 0.0000e+00, 1.6934e-05],\n",
              "        [0.0000e+00, 5.2375e+04, 0.0000e+00, 1.6934e-05]])"
            ]
          },
          "metadata": {},
          "execution_count": 5
        }
      ]
    },
    {
      "cell_type": "code",
      "source": [
        "## using zeros\n",
        "\n",
        "torch.zeros(2,2)"
      ],
      "metadata": {
        "id": "r0gREWdOGnki",
        "outputId": "35acf21b-5b30-4773-eb53-842cd3f7e1b2",
        "colab": {
          "base_uri": "https://localhost:8080/"
        }
      },
      "execution_count": 7,
      "outputs": [
        {
          "output_type": "execute_result",
          "data": {
            "text/plain": [
              "tensor([[0., 0.],\n",
              "        [0., 0.]])"
            ]
          },
          "metadata": {},
          "execution_count": 7
        }
      ]
    },
    {
      "cell_type": "code",
      "source": [
        "## using ones\n",
        "\n",
        "torch.ones(2,2)"
      ],
      "metadata": {
        "id": "iJ_j1wAUG_Sy",
        "outputId": "30c8acf9-62f8-429f-f89c-daca415d1457",
        "colab": {
          "base_uri": "https://localhost:8080/"
        }
      },
      "execution_count": 8,
      "outputs": [
        {
          "output_type": "execute_result",
          "data": {
            "text/plain": [
              "tensor([[1., 1.],\n",
              "        [1., 1.]])"
            ]
          },
          "metadata": {},
          "execution_count": 8
        }
      ]
    },
    {
      "cell_type": "code",
      "source": [
        "## using rand\n",
        "torch.rand(2,2)"
      ],
      "metadata": {
        "id": "49v9s2nLHGad",
        "outputId": "0bd730aa-5412-439d-cb81-3390126954a8",
        "colab": {
          "base_uri": "https://localhost:8080/"
        }
      },
      "execution_count": 10,
      "outputs": [
        {
          "output_type": "execute_result",
          "data": {
            "text/plain": [
              "tensor([[0.9205, 0.1472],\n",
              "        [0.3287, 0.3892]])"
            ]
          },
          "metadata": {},
          "execution_count": 10
        }
      ]
    },
    {
      "cell_type": "code",
      "source": [
        "## use of seed\n",
        "\n",
        "torch.manual_seed(10)\n",
        "torch.rand(2,2)"
      ],
      "metadata": {
        "id": "hbfxg6A4HJ_S",
        "outputId": "52555989-8cf2-4665-f27c-a6a5d68effa3",
        "colab": {
          "base_uri": "https://localhost:8080/"
        }
      },
      "execution_count": 12,
      "outputs": [
        {
          "output_type": "execute_result",
          "data": {
            "text/plain": [
              "tensor([[0.4581, 0.4829],\n",
              "        [0.3125, 0.6150]])"
            ]
          },
          "metadata": {},
          "execution_count": 12
        }
      ]
    },
    {
      "cell_type": "code",
      "source": [
        "torch.manual_seed(10)\n",
        "torch.rand(2,2)"
      ],
      "metadata": {
        "id": "tRTPTUKJHUAz",
        "outputId": "4c0966f7-4726-433a-98d3-01b71d9fb9d4",
        "colab": {
          "base_uri": "https://localhost:8080/"
        }
      },
      "execution_count": 13,
      "outputs": [
        {
          "output_type": "execute_result",
          "data": {
            "text/plain": [
              "tensor([[0.4581, 0.4829],\n",
              "        [0.3125, 0.6150]])"
            ]
          },
          "metadata": {},
          "execution_count": 13
        }
      ]
    },
    {
      "cell_type": "code",
      "source": [
        "## using tensor (custom tensor)\n",
        "torch.tensor(([[1,2,3], [4,5,7]]))"
      ],
      "metadata": {
        "id": "vZXSba6NHbtX",
        "outputId": "33865b47-51f7-4ed7-c75a-9e87f23606c8",
        "colab": {
          "base_uri": "https://localhost:8080/"
        }
      },
      "execution_count": 14,
      "outputs": [
        {
          "output_type": "execute_result",
          "data": {
            "text/plain": [
              "tensor([[1, 2, 3],\n",
              "        [4, 5, 7]])"
            ]
          },
          "metadata": {},
          "execution_count": 14
        }
      ]
    },
    {
      "cell_type": "code",
      "source": [
        "## arange\n",
        "\n",
        "torch.arange(2,10,3)"
      ],
      "metadata": {
        "id": "3GIcOUumHnGQ",
        "outputId": "dfc02f02-8a42-43c7-9ba0-cf660d61e476",
        "colab": {
          "base_uri": "https://localhost:8080/"
        }
      },
      "execution_count": 17,
      "outputs": [
        {
          "output_type": "execute_result",
          "data": {
            "text/plain": [
              "tensor([2, 5, 8])"
            ]
          },
          "metadata": {},
          "execution_count": 17
        }
      ]
    },
    {
      "cell_type": "code",
      "source": [
        "## linspace\n",
        "torch.linspace(2,10,3)"
      ],
      "metadata": {
        "id": "LASRQrafHvkn",
        "outputId": "f8da982f-b3c8-4c44-a144-1729d97a5c89",
        "colab": {
          "base_uri": "https://localhost:8080/"
        }
      },
      "execution_count": 18,
      "outputs": [
        {
          "output_type": "execute_result",
          "data": {
            "text/plain": [
              "tensor([ 2.,  6., 10.])"
            ]
          },
          "metadata": {},
          "execution_count": 18
        }
      ]
    },
    {
      "cell_type": "code",
      "source": [
        "## eye\n",
        "torch.eye(3)"
      ],
      "metadata": {
        "id": "aFgeZ7UvH90d",
        "outputId": "8c1865a7-1124-4fad-f79a-9934b5b554ad",
        "colab": {
          "base_uri": "https://localhost:8080/"
        }
      },
      "execution_count": 19,
      "outputs": [
        {
          "output_type": "execute_result",
          "data": {
            "text/plain": [
              "tensor([[1., 0., 0.],\n",
              "        [0., 1., 0.],\n",
              "        [0., 0., 1.]])"
            ]
          },
          "metadata": {},
          "execution_count": 19
        }
      ]
    },
    {
      "cell_type": "code",
      "source": [
        "## full\n",
        "torch.full((2,2), 3)"
      ],
      "metadata": {
        "id": "VniaNuhuIDug",
        "outputId": "39689a4f-22f4-45c3-8ef3-ed815038f1ea",
        "colab": {
          "base_uri": "https://localhost:8080/"
        }
      },
      "execution_count": 20,
      "outputs": [
        {
          "output_type": "execute_result",
          "data": {
            "text/plain": [
              "tensor([[3, 3],\n",
              "        [3, 3]])"
            ]
          },
          "metadata": {},
          "execution_count": 20
        }
      ]
    },
    {
      "cell_type": "markdown",
      "source": [
        "### Tensor Shapes"
      ],
      "metadata": {
        "id": "55c5I_NgIO_P"
      }
    },
    {
      "cell_type": "code",
      "source": [
        "x = torch.tensor([[1,2,3], [4,5,6]])"
      ],
      "metadata": {
        "id": "YJQKira3IJnd"
      },
      "execution_count": 21,
      "outputs": []
    },
    {
      "cell_type": "code",
      "source": [
        "x.shape"
      ],
      "metadata": {
        "id": "MOGm74IDIWE7",
        "outputId": "a6186441-a3a0-409c-c382-ebdd375e0412",
        "colab": {
          "base_uri": "https://localhost:8080/"
        }
      },
      "execution_count": 22,
      "outputs": [
        {
          "output_type": "execute_result",
          "data": {
            "text/plain": [
              "torch.Size([2, 3])"
            ]
          },
          "metadata": {},
          "execution_count": 22
        }
      ]
    },
    {
      "cell_type": "code",
      "source": [
        "## copying tensor of same with different vlaues\n",
        "torch.empty_like(x)"
      ],
      "metadata": {
        "id": "_5M7w1VGIYav",
        "outputId": "63904086-8b6b-49df-ce7a-0c8634876ebd",
        "colab": {
          "base_uri": "https://localhost:8080/"
        }
      },
      "execution_count": 24,
      "outputs": [
        {
          "output_type": "execute_result",
          "data": {
            "text/plain": [
              "tensor([[    132184101817824,           873725952,                   0],\n",
              "        [                  0,                   0, 7235419174270214779]])"
            ]
          },
          "metadata": {},
          "execution_count": 24
        }
      ]
    },
    {
      "cell_type": "code",
      "source": [
        "## same tensorshape but zero values only\n",
        "\n",
        "torch.zeros_like(x)"
      ],
      "metadata": {
        "id": "S8LlCkZpIfS8",
        "outputId": "9fb81953-9f3a-428f-92b5-7748aa2991b2",
        "colab": {
          "base_uri": "https://localhost:8080/"
        }
      },
      "execution_count": 25,
      "outputs": [
        {
          "output_type": "execute_result",
          "data": {
            "text/plain": [
              "tensor([[0, 0, 0],\n",
              "        [0, 0, 0]])"
            ]
          },
          "metadata": {},
          "execution_count": 25
        }
      ]
    },
    {
      "cell_type": "code",
      "source": [
        "## same tensorshape but one values only\n",
        "\n",
        "torch.ones_like(x)"
      ],
      "metadata": {
        "id": "cEvftRw5IsvZ",
        "outputId": "80361403-7971-4fb7-cad5-1316214038b4",
        "colab": {
          "base_uri": "https://localhost:8080/"
        }
      },
      "execution_count": 26,
      "outputs": [
        {
          "output_type": "execute_result",
          "data": {
            "text/plain": [
              "tensor([[1, 1, 1],\n",
              "        [1, 1, 1]])"
            ]
          },
          "metadata": {},
          "execution_count": 26
        }
      ]
    },
    {
      "cell_type": "markdown",
      "source": [
        "### Tensor Data Types"
      ],
      "metadata": {
        "id": "8LEnooMYJEr8"
      }
    },
    {
      "cell_type": "code",
      "source": [
        "## find data type\n",
        "\n",
        "x.dtype"
      ],
      "metadata": {
        "id": "AZrAbex9I0Ry",
        "outputId": "521ec29c-d5c6-4705-ce49-eae045530ff1",
        "colab": {
          "base_uri": "https://localhost:8080/"
        }
      },
      "execution_count": 27,
      "outputs": [
        {
          "output_type": "execute_result",
          "data": {
            "text/plain": [
              "torch.int64"
            ]
          },
          "metadata": {},
          "execution_count": 27
        }
      ]
    },
    {
      "cell_type": "code",
      "source": [
        "## assign data type\n",
        "y = torch.tensor([[1,2,3], [4,5,6]], dtype=torch.float32)"
      ],
      "metadata": {
        "id": "geDGTDdEJJw8"
      },
      "execution_count": 29,
      "outputs": []
    },
    {
      "cell_type": "code",
      "source": [
        "y"
      ],
      "metadata": {
        "id": "8y5zZ9FcJeXo",
        "outputId": "d5c8169f-c441-4aa6-b672-9385d4fb4773",
        "colab": {
          "base_uri": "https://localhost:8080/"
        }
      },
      "execution_count": 30,
      "outputs": [
        {
          "output_type": "execute_result",
          "data": {
            "text/plain": [
              "tensor([[1., 2., 3.],\n",
              "        [4., 5., 6.]])"
            ]
          },
          "metadata": {},
          "execution_count": 30
        }
      ]
    },
    {
      "cell_type": "code",
      "source": [
        "## using to () to change datatype\n",
        "\n",
        "y.to(torch.int32)"
      ],
      "metadata": {
        "id": "zl8zAPIdJPbl",
        "outputId": "746b1280-111e-4992-ce37-a379e196de1d",
        "colab": {
          "base_uri": "https://localhost:8080/"
        }
      },
      "execution_count": 33,
      "outputs": [
        {
          "output_type": "execute_result",
          "data": {
            "text/plain": [
              "tensor([[1, 2, 3],\n",
              "        [4, 5, 6]], dtype=torch.int32)"
            ]
          },
          "metadata": {},
          "execution_count": 33
        }
      ]
    },
    {
      "cell_type": "markdown",
      "source": [
        "### Mathematical Operations on Tensors"
      ],
      "metadata": {
        "id": "ILNvyuViJ_BF"
      }
    },
    {
      "cell_type": "code",
      "source": [
        "x = torch.rand(2,2)\n",
        "x"
      ],
      "metadata": {
        "id": "Zy_0C2thJoDp",
        "outputId": "76c1ce83-dc40-400b-c3b7-0748c9eb37d2",
        "colab": {
          "base_uri": "https://localhost:8080/"
        }
      },
      "execution_count": 34,
      "outputs": [
        {
          "output_type": "execute_result",
          "data": {
            "text/plain": [
              "tensor([[0.2139, 0.4118],\n",
              "        [0.6938, 0.9693]])"
            ]
          },
          "metadata": {},
          "execution_count": 34
        }
      ]
    },
    {
      "cell_type": "code",
      "source": [
        "## addition\n",
        "x + 2\n",
        "\n"
      ],
      "metadata": {
        "id": "KItd0E-yKENr",
        "outputId": "8b80b978-bc74-4bdd-d474-c158eee2feca",
        "colab": {
          "base_uri": "https://localhost:8080/"
        }
      },
      "execution_count": 35,
      "outputs": [
        {
          "output_type": "execute_result",
          "data": {
            "text/plain": [
              "tensor([[2.2139, 2.4118],\n",
              "        [2.6938, 2.9693]])"
            ]
          },
          "metadata": {},
          "execution_count": 35
        }
      ]
    },
    {
      "cell_type": "code",
      "source": [
        "## division\n",
        "x / 1"
      ],
      "metadata": {
        "id": "K1lXhQEzKJW4",
        "outputId": "304520a9-2bf5-4f1c-eceb-cad979c04d18",
        "colab": {
          "base_uri": "https://localhost:8080/"
        }
      },
      "execution_count": 37,
      "outputs": [
        {
          "output_type": "execute_result",
          "data": {
            "text/plain": [
              "tensor([[0.2139, 0.4118],\n",
              "        [0.6938, 0.9693]])"
            ]
          },
          "metadata": {},
          "execution_count": 37
        }
      ]
    },
    {
      "cell_type": "code",
      "source": [
        "## Element Wise Operation\n",
        "\n",
        "a = torch.rand(2,3)\n",
        "b = torch.rand(2,3)\n",
        "\n",
        "print(a)\n",
        "print(b)"
      ],
      "metadata": {
        "id": "Bexx0SO1KPku",
        "outputId": "cf451eb2-3e1c-480e-bbd5-ec6382a3c7cb",
        "colab": {
          "base_uri": "https://localhost:8080/"
        }
      },
      "execution_count": 38,
      "outputs": [
        {
          "output_type": "stream",
          "name": "stdout",
          "text": [
            "tensor([[0.6178, 0.3304, 0.5479],\n",
            "        [0.4440, 0.7041, 0.5573]])\n",
            "tensor([[0.6959, 0.9849, 0.2924],\n",
            "        [0.4823, 0.6150, 0.4967]])\n"
          ]
        }
      ]
    },
    {
      "cell_type": "code",
      "source": [
        "## add\n",
        "a + b\n"
      ],
      "metadata": {
        "id": "lIm59r6DKeNn",
        "outputId": "adf853eb-7c77-48af-a1e9-bc6daa3a0f3e",
        "colab": {
          "base_uri": "https://localhost:8080/"
        }
      },
      "execution_count": 41,
      "outputs": [
        {
          "output_type": "execute_result",
          "data": {
            "text/plain": [
              "tensor([[1.3137, 1.3153, 0.8403],\n",
              "        [0.9263, 1.3191, 1.0540]])"
            ]
          },
          "metadata": {},
          "execution_count": 41
        }
      ]
    },
    {
      "cell_type": "code",
      "source": [
        "## multiplication\n",
        "a * b"
      ],
      "metadata": {
        "id": "wXGBDf2UKlM_",
        "outputId": "22004c61-2fac-4d5a-bcd9-73b24550ac4f",
        "colab": {
          "base_uri": "https://localhost:8080/"
        }
      },
      "execution_count": 42,
      "outputs": [
        {
          "output_type": "execute_result",
          "data": {
            "text/plain": [
              "tensor([[0.4299, 0.3254, 0.1602],\n",
              "        [0.2141, 0.4330, 0.2768]])"
            ]
          },
          "metadata": {},
          "execution_count": 42
        }
      ]
    },
    {
      "cell_type": "code",
      "source": [
        "n = torch.tensor([1,2,3,-5])\n",
        "\n",
        "## abs value\n",
        "torch.abs(n)"
      ],
      "metadata": {
        "id": "roPZMjXbKxJr",
        "outputId": "bfff24aa-1f3d-4d5f-8873-352a96526c5b",
        "colab": {
          "base_uri": "https://localhost:8080/"
        }
      },
      "execution_count": 45,
      "outputs": [
        {
          "output_type": "execute_result",
          "data": {
            "text/plain": [
              "tensor([1, 2, 3, 5])"
            ]
          },
          "metadata": {},
          "execution_count": 45
        }
      ]
    },
    {
      "cell_type": "code",
      "source": [
        "## negative\n",
        "torch.neg(n)"
      ],
      "metadata": {
        "id": "YFRM5O_iK9Z-",
        "outputId": "1e6a4e1f-0781-454a-a7c9-2d00dfbd20fb",
        "colab": {
          "base_uri": "https://localhost:8080/"
        }
      },
      "execution_count": 46,
      "outputs": [
        {
          "output_type": "execute_result",
          "data": {
            "text/plain": [
              "tensor([-1, -2, -3,  5])"
            ]
          },
          "metadata": {},
          "execution_count": 46
        }
      ]
    },
    {
      "cell_type": "code",
      "source": [
        "m = torch.tensor([1,2,3.7,4.0])\n",
        "\n",
        "## round\n",
        "torch.round(m)"
      ],
      "metadata": {
        "id": "xxajUExBLMU2",
        "outputId": "034799e2-2965-4e65-e9f9-5662761300c7",
        "colab": {
          "base_uri": "https://localhost:8080/"
        }
      },
      "execution_count": 48,
      "outputs": [
        {
          "output_type": "execute_result",
          "data": {
            "text/plain": [
              "tensor([1., 2., 4., 4.])"
            ]
          },
          "metadata": {},
          "execution_count": 48
        }
      ]
    },
    {
      "cell_type": "code",
      "source": [
        "# ceil\n",
        "torch.ceil(m)"
      ],
      "metadata": {
        "id": "aPq71og7LaML",
        "outputId": "e8ec11f0-8211-4a0e-8f9b-eddc9a3b90a2",
        "colab": {
          "base_uri": "https://localhost:8080/"
        }
      },
      "execution_count": 50,
      "outputs": [
        {
          "output_type": "execute_result",
          "data": {
            "text/plain": [
              "tensor([1., 2., 4., 4.])"
            ]
          },
          "metadata": {},
          "execution_count": 50
        }
      ]
    },
    {
      "cell_type": "code",
      "source": [
        "# floor\n",
        "torch.floor(m)"
      ],
      "metadata": {
        "id": "dbfh2hEULiVk",
        "outputId": "056b948b-3c7b-48ee-f443-dd2d79681fc1",
        "colab": {
          "base_uri": "https://localhost:8080/"
        }
      },
      "execution_count": 51,
      "outputs": [
        {
          "output_type": "execute_result",
          "data": {
            "text/plain": [
              "tensor([1., 2., 3., 4.])"
            ]
          },
          "metadata": {},
          "execution_count": 51
        }
      ]
    },
    {
      "cell_type": "code",
      "source": [
        "## clamp\n",
        "torch.clamp(m, min=1, max=3)"
      ],
      "metadata": {
        "id": "KgtOR7OULql6",
        "outputId": "fb99b73c-cd03-44f6-aeb8-d5959562580c",
        "colab": {
          "base_uri": "https://localhost:8080/"
        }
      },
      "execution_count": 52,
      "outputs": [
        {
          "output_type": "execute_result",
          "data": {
            "text/plain": [
              "tensor([1., 2., 3., 3.])"
            ]
          },
          "metadata": {},
          "execution_count": 52
        }
      ]
    },
    {
      "cell_type": "markdown",
      "source": [
        "### Reduction Operation"
      ],
      "metadata": {
        "id": "R05Dr518L-Zg"
      }
    },
    {
      "cell_type": "code",
      "source": [
        "e = torch.randint(size=(2,3), low=0, high=10)\n",
        "e"
      ],
      "metadata": {
        "id": "oYc0zfkrLvR0",
        "outputId": "207a4630-a97b-4469-d144-383654d17755",
        "colab": {
          "base_uri": "https://localhost:8080/"
        }
      },
      "execution_count": 53,
      "outputs": [
        {
          "output_type": "execute_result",
          "data": {
            "text/plain": [
              "tensor([[8, 9, 2],\n",
              "        [0, 9, 9]])"
            ]
          },
          "metadata": {},
          "execution_count": 53
        }
      ]
    },
    {
      "cell_type": "code",
      "source": [
        "## sum on whole matrix\n",
        "torch.sum(e)"
      ],
      "metadata": {
        "id": "pVPpB6b1MF3q",
        "outputId": "8b484a09-f69f-417d-adb8-ecb9711ded3a",
        "colab": {
          "base_uri": "https://localhost:8080/"
        }
      },
      "execution_count": 54,
      "outputs": [
        {
          "output_type": "execute_result",
          "data": {
            "text/plain": [
              "tensor(37)"
            ]
          },
          "metadata": {},
          "execution_count": 54
        }
      ]
    },
    {
      "cell_type": "code",
      "source": [
        "## column wise sum of matrix\n",
        "torch.sum(e, dim=0)"
      ],
      "metadata": {
        "id": "fRj9dSsGMQWB",
        "outputId": "d46e3ce1-5469-48d1-c8a1-bde92070eac8",
        "colab": {
          "base_uri": "https://localhost:8080/"
        }
      },
      "execution_count": 55,
      "outputs": [
        {
          "output_type": "execute_result",
          "data": {
            "text/plain": [
              "tensor([ 8, 18, 11])"
            ]
          },
          "metadata": {},
          "execution_count": 55
        }
      ]
    },
    {
      "cell_type": "code",
      "source": [
        "## row wise sum of matrix\n",
        "torch.sum(e, dim=1)"
      ],
      "metadata": {
        "id": "FmcXlprmMVGB",
        "outputId": "8f4d9272-868d-47f0-e088-d34e212d6f81",
        "colab": {
          "base_uri": "https://localhost:8080/"
        }
      },
      "execution_count": 56,
      "outputs": [
        {
          "output_type": "execute_result",
          "data": {
            "text/plain": [
              "tensor([19, 18])"
            ]
          },
          "metadata": {},
          "execution_count": 56
        }
      ]
    },
    {
      "cell_type": "code",
      "source": [
        "## mean of whole matrix\n",
        "t = torch.randint(size=(2,3), low=0, high=10, dtype=torch.float32)\n",
        "torch.mean(t)"
      ],
      "metadata": {
        "id": "2WgKGVlZMYvm",
        "outputId": "7b13da9e-7fe1-4e47-de38-7683954def8e",
        "colab": {
          "base_uri": "https://localhost:8080/"
        }
      },
      "execution_count": 61,
      "outputs": [
        {
          "output_type": "execute_result",
          "data": {
            "text/plain": [
              "tensor(4.)"
            ]
          },
          "metadata": {},
          "execution_count": 61
        }
      ]
    },
    {
      "cell_type": "code",
      "source": [
        "## mean along column\n",
        "torch.mean(t, dim=0)"
      ],
      "metadata": {
        "id": "jmHuhUZAMhlE",
        "outputId": "c44e0484-7cf0-4205-96ee-fe66d6fcdd12",
        "colab": {
          "base_uri": "https://localhost:8080/"
        }
      },
      "execution_count": 62,
      "outputs": [
        {
          "output_type": "execute_result",
          "data": {
            "text/plain": [
              "tensor([6.5000, 1.5000, 4.0000])"
            ]
          },
          "metadata": {},
          "execution_count": 62
        }
      ]
    },
    {
      "cell_type": "code",
      "source": [
        "## max and min\n",
        "torch.max(t)\n",
        "torch.min(t)"
      ],
      "metadata": {
        "id": "q7SOzj_5NKld",
        "outputId": "eeedd180-6c10-4963-b981-d176ea613b27",
        "colab": {
          "base_uri": "https://localhost:8080/"
        }
      },
      "execution_count": 63,
      "outputs": [
        {
          "output_type": "execute_result",
          "data": {
            "text/plain": [
              "tensor(0.)"
            ]
          },
          "metadata": {},
          "execution_count": 63
        }
      ]
    },
    {
      "cell_type": "code",
      "source": [
        "## standard deviation\n",
        "torch.std(t)"
      ],
      "metadata": {
        "id": "t7LegNC-NSRP",
        "outputId": "ca83fb89-499d-44fa-b1f6-ae48a12ed3d9",
        "colab": {
          "base_uri": "https://localhost:8080/"
        }
      },
      "execution_count": 64,
      "outputs": [
        {
          "output_type": "execute_result",
          "data": {
            "text/plain": [
              "tensor(3.8471)"
            ]
          },
          "metadata": {},
          "execution_count": 64
        }
      ]
    },
    {
      "cell_type": "code",
      "source": [
        "## variance\n",
        "torch.var(t)"
      ],
      "metadata": {
        "id": "NE2EjkMuNWcg",
        "outputId": "9b5aad0c-0651-45aa-b20d-601b41020c6e",
        "colab": {
          "base_uri": "https://localhost:8080/"
        }
      },
      "execution_count": 65,
      "outputs": [
        {
          "output_type": "execute_result",
          "data": {
            "text/plain": [
              "tensor(14.8000)"
            ]
          },
          "metadata": {},
          "execution_count": 65
        }
      ]
    },
    {
      "cell_type": "code",
      "source": [
        "## argmax\n",
        "torch.argmax(t)"
      ],
      "metadata": {
        "id": "8hLamXPNNfys",
        "outputId": "cccbf736-7315-4b4b-b04b-b7c5e9c0b94b",
        "colab": {
          "base_uri": "https://localhost:8080/"
        }
      },
      "execution_count": 66,
      "outputs": [
        {
          "output_type": "execute_result",
          "data": {
            "text/plain": [
              "tensor(3)"
            ]
          },
          "metadata": {},
          "execution_count": 66
        }
      ]
    },
    {
      "cell_type": "markdown",
      "source": [
        "## Matrix Operations"
      ],
      "metadata": {
        "id": "bJIRmHs6NrP4"
      }
    },
    {
      "cell_type": "code",
      "source": [
        "f = torch.randint(size=(2,3), low=0, high=10)\n",
        "g = torch.randint(size=(3,2), low=0, high=10)\n",
        "\n",
        "print(f)\n",
        "print(g)"
      ],
      "metadata": {
        "id": "JstHjMdxNpJq",
        "outputId": "94b20489-4e23-4575-e4fd-d9094b494105",
        "colab": {
          "base_uri": "https://localhost:8080/"
        }
      },
      "execution_count": 67,
      "outputs": [
        {
          "output_type": "stream",
          "name": "stdout",
          "text": [
            "tensor([[9, 3, 7],\n",
            "        [9, 5, 2]])\n",
            "tensor([[9, 6],\n",
            "        [6, 2],\n",
            "        [8, 9]])\n"
          ]
        }
      ]
    },
    {
      "cell_type": "code",
      "source": [
        "## matrix multiplication\n",
        "torch.matmul(f,g)"
      ],
      "metadata": {
        "id": "yYt1WrSDN3A4",
        "outputId": "db0f5c0c-c7ae-4ceb-b266-13c48cb5236e",
        "colab": {
          "base_uri": "https://localhost:8080/"
        }
      },
      "execution_count": 68,
      "outputs": [
        {
          "output_type": "execute_result",
          "data": {
            "text/plain": [
              "tensor([[155, 123],\n",
              "        [127,  82]])"
            ]
          },
          "metadata": {},
          "execution_count": 68
        }
      ]
    },
    {
      "cell_type": "code",
      "source": [
        "## dot product\n",
        "vec1 = torch.tensor([1,2,3])\n",
        "vec2 = torch.tensor([4,5,6])\n",
        "\n",
        "torch.dot(vec1, vec2)"
      ],
      "metadata": {
        "id": "ddg6bVPRN75g",
        "outputId": "dd9c3968-d86b-4faf-9c9c-21d946cb1284",
        "colab": {
          "base_uri": "https://localhost:8080/"
        }
      },
      "execution_count": 70,
      "outputs": [
        {
          "output_type": "execute_result",
          "data": {
            "text/plain": [
              "tensor(32)"
            ]
          },
          "metadata": {},
          "execution_count": 70
        }
      ]
    },
    {
      "cell_type": "code",
      "source": [
        "## transpose\n",
        "torch.transpose(f, 0, 1)"
      ],
      "metadata": {
        "id": "OhRaKakcOC2N",
        "outputId": "b0859cd9-b31b-4481-b4c7-29971e21a7f2",
        "colab": {
          "base_uri": "https://localhost:8080/"
        }
      },
      "execution_count": 71,
      "outputs": [
        {
          "output_type": "execute_result",
          "data": {
            "text/plain": [
              "tensor([[9, 9],\n",
              "        [3, 5],\n",
              "        [7, 2]])"
            ]
          },
          "metadata": {},
          "execution_count": 71
        }
      ]
    },
    {
      "cell_type": "markdown",
      "source": [
        "### Comparison Operations"
      ],
      "metadata": {
        "id": "LDsyoT_yOcE4"
      }
    },
    {
      "cell_type": "code",
      "source": [
        "i = torch.randint(size=(2,3), low=0, high=10)\n",
        "j = torch.randint(size=(2,3), low=0, high=10)\n",
        "\n",
        "print(i)\n",
        "print(j)"
      ],
      "metadata": {
        "id": "eO07PBaDObYH",
        "outputId": "60713303-99c1-41cd-db44-2bf42dbb95f0",
        "colab": {
          "base_uri": "https://localhost:8080/"
        }
      },
      "execution_count": 72,
      "outputs": [
        {
          "output_type": "stream",
          "name": "stdout",
          "text": [
            "tensor([[6, 9, 1],\n",
            "        [9, 2, 1]])\n",
            "tensor([[2, 9, 7],\n",
            "        [2, 9, 4]])\n"
          ]
        }
      ]
    },
    {
      "cell_type": "code",
      "source": [
        "# greater than\n",
        "i > j"
      ],
      "metadata": {
        "id": "yoXT2rA5OUEg",
        "outputId": "d63e5ca2-3a3a-4c8b-eff0-139a7f7b3b8d",
        "colab": {
          "base_uri": "https://localhost:8080/"
        }
      },
      "execution_count": 73,
      "outputs": [
        {
          "output_type": "execute_result",
          "data": {
            "text/plain": [
              "tensor([[ True, False, False],\n",
              "        [ True, False, False]])"
            ]
          },
          "metadata": {},
          "execution_count": 73
        }
      ]
    },
    {
      "cell_type": "markdown",
      "source": [
        "### Special Functions"
      ],
      "metadata": {
        "id": "ZtaL6NohO1qK"
      }
    },
    {
      "cell_type": "code",
      "source": [
        "k = torch.randint(size=(2,3), low=0, high=10, dtype=torch.float32)\n",
        "k"
      ],
      "metadata": {
        "id": "U3F70cPsO4VX",
        "outputId": "d5797de8-b496-41db-a941-d355d21141b9",
        "colab": {
          "base_uri": "https://localhost:8080/"
        }
      },
      "execution_count": 74,
      "outputs": [
        {
          "output_type": "execute_result",
          "data": {
            "text/plain": [
              "tensor([[4., 9., 4.],\n",
              "        [4., 8., 3.]])"
            ]
          },
          "metadata": {},
          "execution_count": 74
        }
      ]
    },
    {
      "cell_type": "code",
      "source": [
        "# log\n",
        "torch.log(k)"
      ],
      "metadata": {
        "id": "2m6aJ7H4O8xu",
        "outputId": "5cfa3960-0dfa-4b44-cd07-f01ba4432df5",
        "colab": {
          "base_uri": "https://localhost:8080/"
        }
      },
      "execution_count": 75,
      "outputs": [
        {
          "output_type": "execute_result",
          "data": {
            "text/plain": [
              "tensor([[1.3863, 2.1972, 1.3863],\n",
              "        [1.3863, 2.0794, 1.0986]])"
            ]
          },
          "metadata": {},
          "execution_count": 75
        }
      ]
    },
    {
      "cell_type": "code",
      "source": [
        "# sqrt\n",
        "torch.sqrt(k)"
      ],
      "metadata": {
        "id": "CJlU9yPWO-SB",
        "outputId": "16414492-757d-42b9-f011-7d0760ef6c65",
        "colab": {
          "base_uri": "https://localhost:8080/"
        }
      },
      "execution_count": 76,
      "outputs": [
        {
          "output_type": "execute_result",
          "data": {
            "text/plain": [
              "tensor([[2.0000, 3.0000, 2.0000],\n",
              "        [2.0000, 2.8284, 1.7321]])"
            ]
          },
          "metadata": {},
          "execution_count": 76
        }
      ]
    },
    {
      "cell_type": "code",
      "source": [
        "# sigmoid\n",
        "torch.sigmoid(k)"
      ],
      "metadata": {
        "id": "gmaB4paGPBVn",
        "outputId": "ac9183ba-1faf-4812-9415-76234ca66b51",
        "colab": {
          "base_uri": "https://localhost:8080/"
        }
      },
      "execution_count": 77,
      "outputs": [
        {
          "output_type": "execute_result",
          "data": {
            "text/plain": [
              "tensor([[0.9820, 0.9999, 0.9820],\n",
              "        [0.9820, 0.9997, 0.9526]])"
            ]
          },
          "metadata": {},
          "execution_count": 77
        }
      ]
    },
    {
      "cell_type": "code",
      "source": [
        "# softmax\n",
        "torch.softmax(k, dim=0)"
      ],
      "metadata": {
        "id": "WWLysI6TPDLY",
        "outputId": "e0c062c8-173e-4e70-b815-a0aa125fe040",
        "colab": {
          "base_uri": "https://localhost:8080/"
        }
      },
      "execution_count": 78,
      "outputs": [
        {
          "output_type": "execute_result",
          "data": {
            "text/plain": [
              "tensor([[0.5000, 0.7311, 0.7311],\n",
              "        [0.5000, 0.2689, 0.2689]])"
            ]
          },
          "metadata": {},
          "execution_count": 78
        }
      ]
    },
    {
      "cell_type": "code",
      "source": [
        "# relu\n",
        "torch.relu(k)"
      ],
      "metadata": {
        "id": "F5iTOtHDPEmN",
        "outputId": "0d1b6f5a-fb8c-4d19-ffa7-513ae92653eb",
        "colab": {
          "base_uri": "https://localhost:8080/"
        }
      },
      "execution_count": 79,
      "outputs": [
        {
          "output_type": "execute_result",
          "data": {
            "text/plain": [
              "tensor([[4., 9., 4.],\n",
              "        [4., 8., 3.]])"
            ]
          },
          "metadata": {},
          "execution_count": 79
        }
      ]
    },
    {
      "cell_type": "markdown",
      "source": [
        "## Inplace Operations"
      ],
      "metadata": {
        "id": "VXf4F5V9PRR7"
      }
    },
    {
      "cell_type": "code",
      "source": [
        "m = torch.rand(2,3)\n",
        "n = torch.rand(2,3)\n",
        "\n",
        "print(m)\n",
        "print(n)"
      ],
      "metadata": {
        "id": "c2RBh8j_PGhp",
        "outputId": "e62aef55-11af-4fa0-9225-195409079826",
        "colab": {
          "base_uri": "https://localhost:8080/"
        }
      },
      "execution_count": 80,
      "outputs": [
        {
          "output_type": "stream",
          "name": "stdout",
          "text": [
            "tensor([[0.1576, 0.8879, 0.9792],\n",
            "        [0.2627, 0.1800, 0.6750]])\n",
            "tensor([[0.1424, 0.3790, 0.0055],\n",
            "        [0.6368, 0.3295, 0.2203]])\n"
          ]
        }
      ]
    },
    {
      "cell_type": "code",
      "source": [
        "## it will overwrite the same memory address of (m)\n",
        "m.add_(n)"
      ],
      "metadata": {
        "id": "-G6UYNXBP0fo",
        "outputId": "20f84bf5-2f9e-4f98-e3a0-fa507f479697",
        "colab": {
          "base_uri": "https://localhost:8080/"
        }
      },
      "execution_count": 81,
      "outputs": [
        {
          "output_type": "execute_result",
          "data": {
            "text/plain": [
              "tensor([[0.3000, 1.2669, 0.9847],\n",
              "        [0.8995, 0.5095, 0.8953]])"
            ]
          },
          "metadata": {},
          "execution_count": 81
        }
      ]
    },
    {
      "cell_type": "code",
      "source": [
        "m"
      ],
      "metadata": {
        "id": "IXUVOBg9P6Wm",
        "outputId": "492ca0d1-cad6-46af-8578-b1f16c5f4ee8",
        "colab": {
          "base_uri": "https://localhost:8080/"
        }
      },
      "execution_count": 82,
      "outputs": [
        {
          "output_type": "execute_result",
          "data": {
            "text/plain": [
              "tensor([[0.3000, 1.2669, 0.9847],\n",
              "        [0.8995, 0.5095, 0.8953]])"
            ]
          },
          "metadata": {},
          "execution_count": 82
        }
      ]
    },
    {
      "cell_type": "code",
      "source": [
        "n"
      ],
      "metadata": {
        "id": "1vn_uZAqP8UC",
        "outputId": "739a5d3a-48c7-42d5-e507-bab30276f054",
        "colab": {
          "base_uri": "https://localhost:8080/"
        }
      },
      "execution_count": 83,
      "outputs": [
        {
          "output_type": "execute_result",
          "data": {
            "text/plain": [
              "tensor([[0.1424, 0.3790, 0.0055],\n",
              "        [0.6368, 0.3295, 0.2203]])"
            ]
          },
          "metadata": {},
          "execution_count": 83
        }
      ]
    },
    {
      "cell_type": "markdown",
      "source": [
        "### Copying Tensor\n"
      ],
      "metadata": {
        "id": "gXzzOjqcQnAw"
      }
    },
    {
      "cell_type": "code",
      "source": [
        "a = torch.rand(2,3)\n",
        "a"
      ],
      "metadata": {
        "id": "SlHMlJwUP9gq",
        "outputId": "8ef5ead1-a3ee-4c83-b3d8-3f88598b01b6",
        "colab": {
          "base_uri": "https://localhost:8080/"
        }
      },
      "execution_count": 84,
      "outputs": [
        {
          "output_type": "execute_result",
          "data": {
            "text/plain": [
              "tensor([[0.1821, 0.3241, 0.7375],\n",
              "        [0.5283, 0.9306, 0.3213]])"
            ]
          },
          "metadata": {},
          "execution_count": 84
        }
      ]
    },
    {
      "cell_type": "code",
      "source": [
        "b = a.clone()"
      ],
      "metadata": {
        "id": "slYxrSNpRBpg"
      },
      "execution_count": 85,
      "outputs": []
    },
    {
      "cell_type": "code",
      "source": [
        "a"
      ],
      "metadata": {
        "id": "YVEdlihHRDgl",
        "outputId": "695bfecf-14aa-4800-f44e-779ee210865e",
        "colab": {
          "base_uri": "https://localhost:8080/"
        }
      },
      "execution_count": 86,
      "outputs": [
        {
          "output_type": "execute_result",
          "data": {
            "text/plain": [
              "tensor([[0.1821, 0.3241, 0.7375],\n",
              "        [0.5283, 0.9306, 0.3213]])"
            ]
          },
          "metadata": {},
          "execution_count": 86
        }
      ]
    },
    {
      "cell_type": "code",
      "source": [
        "b"
      ],
      "metadata": {
        "id": "5k0pjFl2RE1F",
        "outputId": "c59cee1c-a7d1-4b93-bf42-b3cbbc7df4c0",
        "colab": {
          "base_uri": "https://localhost:8080/"
        }
      },
      "execution_count": 87,
      "outputs": [
        {
          "output_type": "execute_result",
          "data": {
            "text/plain": [
              "tensor([[0.1821, 0.3241, 0.7375],\n",
              "        [0.5283, 0.9306, 0.3213]])"
            ]
          },
          "metadata": {},
          "execution_count": 87
        }
      ]
    },
    {
      "cell_type": "code",
      "source": [
        "a[0][0] = 10"
      ],
      "metadata": {
        "id": "-oQzbW81RHFt"
      },
      "execution_count": 88,
      "outputs": []
    },
    {
      "cell_type": "code",
      "source": [
        "a"
      ],
      "metadata": {
        "id": "YTB9QOltRIMC",
        "outputId": "4e6873d1-c8a0-4b86-b221-1b4ab97abb54",
        "colab": {
          "base_uri": "https://localhost:8080/"
        }
      },
      "execution_count": 89,
      "outputs": [
        {
          "output_type": "execute_result",
          "data": {
            "text/plain": [
              "tensor([[10.0000,  0.3241,  0.7375],\n",
              "        [ 0.5283,  0.9306,  0.3213]])"
            ]
          },
          "metadata": {},
          "execution_count": 89
        }
      ]
    },
    {
      "cell_type": "code",
      "source": [
        "b"
      ],
      "metadata": {
        "id": "sGf2nYJaRK8c",
        "outputId": "03f93b2a-6534-45c4-deba-2c3b790f2919",
        "colab": {
          "base_uri": "https://localhost:8080/"
        }
      },
      "execution_count": 90,
      "outputs": [
        {
          "output_type": "execute_result",
          "data": {
            "text/plain": [
              "tensor([[0.1821, 0.3241, 0.7375],\n",
              "        [0.5283, 0.9306, 0.3213]])"
            ]
          },
          "metadata": {},
          "execution_count": 90
        }
      ]
    },
    {
      "cell_type": "code",
      "source": [
        "id(a)"
      ],
      "metadata": {
        "id": "k3Pfyw3-RL9G",
        "outputId": "781c8418-dbcb-4841-f36b-6e494057ade5",
        "colab": {
          "base_uri": "https://localhost:8080/"
        }
      },
      "execution_count": 91,
      "outputs": [
        {
          "output_type": "execute_result",
          "data": {
            "text/plain": [
              "132179425699184"
            ]
          },
          "metadata": {},
          "execution_count": 91
        }
      ]
    },
    {
      "cell_type": "code",
      "source": [
        "id(b)"
      ],
      "metadata": {
        "id": "sWZ0GveVRO9V",
        "outputId": "cacc5fef-8656-46d5-c6ae-795e0df2ab94",
        "colab": {
          "base_uri": "https://localhost:8080/"
        }
      },
      "execution_count": 92,
      "outputs": [
        {
          "output_type": "execute_result",
          "data": {
            "text/plain": [
              "132179425693232"
            ]
          },
          "metadata": {},
          "execution_count": 92
        }
      ]
    },
    {
      "cell_type": "markdown",
      "source": [
        "### Tensor Operations on GPU"
      ],
      "metadata": {
        "id": "H4rOQkIbRXiW"
      }
    },
    {
      "cell_type": "code",
      "source": [
        "torch.cuda.is_available()"
      ],
      "metadata": {
        "id": "Ds_ZrSBORP3A",
        "outputId": "36749dd0-a9b6-4401-bd4a-88f28197469a",
        "colab": {
          "base_uri": "https://localhost:8080/"
        }
      },
      "execution_count": 93,
      "outputs": [
        {
          "output_type": "execute_result",
          "data": {
            "text/plain": [
              "True"
            ]
          },
          "metadata": {},
          "execution_count": 93
        }
      ]
    },
    {
      "cell_type": "code",
      "source": [
        "device = torch.device('cuda')"
      ],
      "metadata": {
        "id": "k_RCckVCRgil"
      },
      "execution_count": 94,
      "outputs": []
    },
    {
      "cell_type": "code",
      "source": [
        "## creating a new tensor on GPU\n",
        "torch.rand(2,3, device = device)"
      ],
      "metadata": {
        "id": "RCxoQdjbRjyI",
        "outputId": "f0b48c48-e840-4322-be75-1cf6bac3836d",
        "colab": {
          "base_uri": "https://localhost:8080/"
        }
      },
      "execution_count": 95,
      "outputs": [
        {
          "output_type": "execute_result",
          "data": {
            "text/plain": [
              "tensor([[0.9835, 0.2422, 0.7872],\n",
              "        [0.0981, 0.6317, 0.2422]], device='cuda:0')"
            ]
          },
          "metadata": {},
          "execution_count": 95
        }
      ]
    },
    {
      "cell_type": "code",
      "source": [
        "## moving an existing tensor to GPU from CPU\n",
        "\n",
        "a = torch.rand(2,3)\n",
        "a.to(device)"
      ],
      "metadata": {
        "id": "k654DXcCRrKY",
        "outputId": "e13f1b8b-02af-4165-c03f-ff5c12af3ff1",
        "colab": {
          "base_uri": "https://localhost:8080/"
        }
      },
      "execution_count": 96,
      "outputs": [
        {
          "output_type": "execute_result",
          "data": {
            "text/plain": [
              "tensor([[0.3537, 0.9894, 0.0231],\n",
              "        [0.3032, 0.1898, 0.9811]], device='cuda:0')"
            ]
          },
          "metadata": {},
          "execution_count": 96
        }
      ]
    },
    {
      "cell_type": "markdown",
      "source": [
        "### Reshaping Tensors"
      ],
      "metadata": {
        "id": "3NGanaBpSOGk"
      }
    },
    {
      "cell_type": "code",
      "source": [
        "a = torch.ones(4,4)\n",
        "\n",
        "a"
      ],
      "metadata": {
        "id": "zY5PZMY5R2v_",
        "outputId": "02c5194f-753c-4d85-d138-be95d52e350b",
        "colab": {
          "base_uri": "https://localhost:8080/"
        }
      },
      "execution_count": 97,
      "outputs": [
        {
          "output_type": "execute_result",
          "data": {
            "text/plain": [
              "tensor([[1., 1., 1., 1.],\n",
              "        [1., 1., 1., 1.],\n",
              "        [1., 1., 1., 1.],\n",
              "        [1., 1., 1., 1.]])"
            ]
          },
          "metadata": {},
          "execution_count": 97
        }
      ]
    },
    {
      "cell_type": "code",
      "source": [
        "## reshaping\n",
        "a.reshape(2,2,2,2)"
      ],
      "metadata": {
        "id": "HfSUCHP3SU17",
        "outputId": "03beac9b-43f0-40ae-c4ae-70ced82b2c42",
        "colab": {
          "base_uri": "https://localhost:8080/"
        }
      },
      "execution_count": 98,
      "outputs": [
        {
          "output_type": "execute_result",
          "data": {
            "text/plain": [
              "tensor([[[[1., 1.],\n",
              "          [1., 1.]],\n",
              "\n",
              "         [[1., 1.],\n",
              "          [1., 1.]]],\n",
              "\n",
              "\n",
              "        [[[1., 1.],\n",
              "          [1., 1.]],\n",
              "\n",
              "         [[1., 1.],\n",
              "          [1., 1.]]]])"
            ]
          },
          "metadata": {},
          "execution_count": 98
        }
      ]
    },
    {
      "cell_type": "code",
      "source": [
        "## flatten\n",
        "a.flatten()"
      ],
      "metadata": {
        "id": "LdTLTJFkSaEJ",
        "outputId": "c1e35326-e4a6-42eb-b1a8-8387ac7e5b18",
        "colab": {
          "base_uri": "https://localhost:8080/"
        }
      },
      "execution_count": 99,
      "outputs": [
        {
          "output_type": "execute_result",
          "data": {
            "text/plain": [
              "tensor([1., 1., 1., 1., 1., 1., 1., 1., 1., 1., 1., 1., 1., 1., 1., 1.])"
            ]
          },
          "metadata": {},
          "execution_count": 99
        }
      ]
    },
    {
      "cell_type": "code",
      "source": [
        "b = torch.rand(2,3,4)\n",
        "b"
      ],
      "metadata": {
        "id": "ON9oQhvtSmYt",
        "outputId": "cd13c733-6759-478a-9b3d-e1849f510ba3",
        "colab": {
          "base_uri": "https://localhost:8080/"
        }
      },
      "execution_count": 100,
      "outputs": [
        {
          "output_type": "execute_result",
          "data": {
            "text/plain": [
              "tensor([[[0.7662, 0.3325, 0.2877, 0.6533],\n",
              "         [0.3310, 0.6552, 0.2441, 0.1906],\n",
              "         [0.4875, 0.7936, 0.9259, 0.6105]],\n",
              "\n",
              "        [[0.2030, 0.7614, 0.6949, 0.7133],\n",
              "         [0.3333, 0.4325, 0.7307, 0.7065],\n",
              "         [0.8321, 0.2001, 0.8140, 0.3055]]])"
            ]
          },
          "metadata": {},
          "execution_count": 100
        }
      ]
    },
    {
      "cell_type": "code",
      "source": [
        "### permute\n",
        "b.permute(2,0,1)"
      ],
      "metadata": {
        "id": "tlJwMqUySrQa",
        "outputId": "aeb2f76c-9ac5-4ed2-826d-98f9d8fa2a33",
        "colab": {
          "base_uri": "https://localhost:8080/"
        }
      },
      "execution_count": 101,
      "outputs": [
        {
          "output_type": "execute_result",
          "data": {
            "text/plain": [
              "tensor([[[0.7662, 0.3310, 0.4875],\n",
              "         [0.2030, 0.3333, 0.8321]],\n",
              "\n",
              "        [[0.3325, 0.6552, 0.7936],\n",
              "         [0.7614, 0.4325, 0.2001]],\n",
              "\n",
              "        [[0.2877, 0.2441, 0.9259],\n",
              "         [0.6949, 0.7307, 0.8140]],\n",
              "\n",
              "        [[0.6533, 0.1906, 0.6105],\n",
              "         [0.7133, 0.7065, 0.3055]]])"
            ]
          },
          "metadata": {},
          "execution_count": 101
        }
      ]
    },
    {
      "cell_type": "code",
      "source": [
        "## unsqueeze\n",
        "c = torch.rand(2,3)\n",
        "c"
      ],
      "metadata": {
        "id": "_W-qCw17SzJF",
        "outputId": "ff0b7eb4-6807-4ab1-8958-d3bbb9c2d76e",
        "colab": {
          "base_uri": "https://localhost:8080/"
        }
      },
      "execution_count": 102,
      "outputs": [
        {
          "output_type": "execute_result",
          "data": {
            "text/plain": [
              "tensor([[0.4874, 0.2647, 0.3518],\n",
              "        [0.8371, 0.9271, 0.6741]])"
            ]
          },
          "metadata": {},
          "execution_count": 102
        }
      ]
    },
    {
      "cell_type": "code",
      "source": [
        "c.unsqueeze(0).shape"
      ],
      "metadata": {
        "id": "RTFmcin-UWZo",
        "outputId": "2f778440-b7d2-42a3-e933-895677c08573",
        "colab": {
          "base_uri": "https://localhost:8080/"
        }
      },
      "execution_count": 109,
      "outputs": [
        {
          "output_type": "execute_result",
          "data": {
            "text/plain": [
              "torch.Size([1, 2, 3])"
            ]
          },
          "metadata": {},
          "execution_count": 109
        }
      ]
    },
    {
      "cell_type": "code",
      "source": [
        "# squeeze\n",
        "d = torch.rand(1,2,3)\n",
        "d"
      ],
      "metadata": {
        "id": "QQN4UP03Uc0g",
        "outputId": "03193ce3-ea6c-4968-ec81-50bc52e17ac4",
        "colab": {
          "base_uri": "https://localhost:8080/"
        }
      },
      "execution_count": 110,
      "outputs": [
        {
          "output_type": "execute_result",
          "data": {
            "text/plain": [
              "tensor([[[0.1249, 0.3156, 0.8468],\n",
              "         [0.3651, 0.0916, 0.6161]]])"
            ]
          },
          "metadata": {},
          "execution_count": 110
        }
      ]
    },
    {
      "cell_type": "code",
      "source": [
        "d.squeeze(0).shape"
      ],
      "metadata": {
        "id": "rcF2YI-UVE7U",
        "outputId": "a693aee7-2fa1-4c45-f3a1-ff18f3bc4423",
        "colab": {
          "base_uri": "https://localhost:8080/"
        }
      },
      "execution_count": 112,
      "outputs": [
        {
          "output_type": "execute_result",
          "data": {
            "text/plain": [
              "torch.Size([2, 3])"
            ]
          },
          "metadata": {},
          "execution_count": 112
        }
      ]
    },
    {
      "cell_type": "markdown",
      "source": [
        "### Converting Numpy array to Tensor or Tensor to Np array"
      ],
      "metadata": {
        "id": "IgPsTDxuVZm5"
      }
    },
    {
      "cell_type": "code",
      "source": [
        "import numpy as np"
      ],
      "metadata": {
        "id": "zWRnUttjVL1c"
      },
      "execution_count": 113,
      "outputs": []
    },
    {
      "cell_type": "code",
      "source": [
        "a = torch.tensor([1,2,3])\n",
        "a"
      ],
      "metadata": {
        "id": "db1RfhrGViWU",
        "outputId": "4f5f25e5-f385-4da5-be3f-d5976d699ce1",
        "colab": {
          "base_uri": "https://localhost:8080/"
        }
      },
      "execution_count": 114,
      "outputs": [
        {
          "output_type": "execute_result",
          "data": {
            "text/plain": [
              "tensor([1, 2, 3])"
            ]
          },
          "metadata": {},
          "execution_count": 114
        }
      ]
    },
    {
      "cell_type": "code",
      "source": [
        "## converting to numpy array\n",
        "b = a.numpy()\n",
        "b"
      ],
      "metadata": {
        "id": "FeL0b-rGVmrl",
        "outputId": "58a05247-14eb-42ae-af78-030436a02e45",
        "colab": {
          "base_uri": "https://localhost:8080/"
        }
      },
      "execution_count": 115,
      "outputs": [
        {
          "output_type": "execute_result",
          "data": {
            "text/plain": [
              "array([1, 2, 3])"
            ]
          },
          "metadata": {},
          "execution_count": 115
        }
      ]
    },
    {
      "cell_type": "code",
      "source": [
        "## now converting np array to tensor\n",
        "c = np.array([2,3,4])\n",
        "c\n"
      ],
      "metadata": {
        "id": "i2a8P2d8Vsjs",
        "outputId": "749f8197-665e-412d-8afc-106784307e50",
        "colab": {
          "base_uri": "https://localhost:8080/"
        }
      },
      "execution_count": 116,
      "outputs": [
        {
          "output_type": "execute_result",
          "data": {
            "text/plain": [
              "array([2, 3, 4])"
            ]
          },
          "metadata": {},
          "execution_count": 116
        }
      ]
    },
    {
      "cell_type": "code",
      "source": [
        "torch.from_numpy(c)"
      ],
      "metadata": {
        "id": "4AqqnN29V0J6",
        "outputId": "b91cda5f-06b4-4d37-9ee4-6fcb1adbd0c2",
        "colab": {
          "base_uri": "https://localhost:8080/"
        }
      },
      "execution_count": 117,
      "outputs": [
        {
          "output_type": "execute_result",
          "data": {
            "text/plain": [
              "tensor([2, 3, 4])"
            ]
          },
          "metadata": {},
          "execution_count": 117
        }
      ]
    },
    {
      "cell_type": "markdown",
      "source": [
        "### End ,.... thanks for sticking"
      ],
      "metadata": {
        "id": "yGiQPa_vV64z"
      }
    },
    {
      "cell_type": "code",
      "source": [],
      "metadata": {
        "id": "58WxYcLlV860"
      },
      "execution_count": null,
      "outputs": []
    }
  ]
}